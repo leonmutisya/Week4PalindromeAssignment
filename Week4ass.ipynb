{
 "cells": [
  {
   "cell_type": "code",
   "execution_count": null,
   "id": "fe25e540-6912-4c88-ac7f-13399053a799",
   "metadata": {},
   "outputs": [],
   "source": [
    "# 1 Write a python program to check whether a string is palindrome or not using a stack"
   ]
  },
  {
   "cell_type": "code",
   "execution_count": 17,
   "id": "6b2b6f43-8772-4daa-a3aa-a76509ccc239",
   "metadata": {},
   "outputs": [
    {
     "name": "stdout",
     "output_type": "stream",
     "text": [
      "False\n",
      "True\n"
     ]
    }
   ],
   "source": [
    "def is_palindrome(s):\n",
    "    stack = []\n",
    "    \n",
    "    # push characters of string to stack\n",
    "    for char in s:\n",
    "        stack.append(char)\n",
    "        \n",
    "    # Pop characters from the stack for reversed string\n",
    "    reverse_s = \"\"\n",
    "    while stack:\n",
    "        reverse_s += stack.pop()\n",
    "    return s == reverse_s\n",
    "\n",
    "    # Test the function\n",
    "print(is_palindrome(\"brandy\"))  \n",
    "print(is_palindrome(\"boob\"))  \n",
    "\n"
   ]
  },
  {
   "cell_type": "code",
   "execution_count": 19,
   "id": "d718eb42-2993-4ee4-ba97-a5895680f5aa",
   "metadata": {},
   "outputs": [],
   "source": [
    " #2 Explain the concept of list comprehension in Python with at least three examples."
   ]
  },
  {
   "cell_type": "code",
   "execution_count": 19,
   "id": "33ed27ae-b0a3-458e-8b1c-cfe3a8cc9f40",
   "metadata": {},
   "outputs": [
    {
     "name": "stdout",
     "output_type": "stream",
     "text": [
      "[0, 1, 2, 3, 4, 5, 6, 7, 8, 9]\n"
     ]
    }
   ],
   "source": [
    "# list comprehension\n",
    "mylist =[0,1,2,3,4,5,6,7,8,9]\n",
    "numbers = [x for x in range(10)]\n",
    "print(numbers)  \n"
   ]
  },
  {
   "cell_type": "code",
   "execution_count": 23,
   "id": "2958bd2a-82ac-43fe-bd1b-4a07f5fdf23d",
   "metadata": {},
   "outputs": [
    {
     "name": "stdout",
     "output_type": "stream",
     "text": [
      "[0, 2, 4, 6, 8]\n"
     ]
    }
   ],
   "source": [
    "#list with condition\n",
    "mylist = [0,1,2,3,4,5,6,7,8,9]\n",
    "even_numbers = [x for x in range(10) if x % 2 == 0]\n",
    "print(even_numbers)  \n"
   ]
  },
  {
   "cell_type": "code",
   "execution_count": 27,
   "id": "5fc64a52-43fc-4232-abdc-174222bcfed0",
   "metadata": {},
   "outputs": [
    {
     "name": "stdout",
     "output_type": "stream",
     "text": [
      "[[0, 1, 2], [0, 1, 2], [0, 1, 2]]\n"
     ]
    }
   ],
   "source": [
    "mylist= [0,1,2,3,4,5,6,7,8,9]\n",
    "matrix = [[x for x in range(3)] for i in range(3)]\n",
    "print(matrix)  \n"
   ]
  },
  {
   "cell_type": "code",
   "execution_count": null,
   "id": "7825cb15-e946-4534-9583-9ffd61130e6e",
   "metadata": {},
   "outputs": [],
   "source": [
    "# 3.  Explain what a compound datatype is in Python with three examples."
   ]
  },
  {
   "cell_type": "code",
   "execution_count": 31,
   "id": "7a7aa228-d190-44fe-928b-b486bd66636a",
   "metadata": {},
   "outputs": [],
   "source": [
    "# List\n",
    "my_list = [1, \"structures\", 4.4]\n"
   ]
  },
  {
   "cell_type": "code",
   "execution_count": null,
   "id": "d5a65bd7-d8cd-4b7a-8fc2-601385975cf8",
   "metadata": {},
   "outputs": [],
   "source": [
    "# Dictionary\n",
    "my_dict = {\"name\": \"Mutisya\", \"age\": 50, \"is_student\": False}\n"
   ]
  },
  {
   "cell_type": "code",
   "execution_count": null,
   "id": "01bdb178-e47f-4cdd-9b0e-a462eb786fcb",
   "metadata": {},
   "outputs": [],
   "source": [
    "# Tuple\n",
    "my_tuple = (1, 2, \"banana\")\n"
   ]
  },
  {
   "cell_type": "code",
   "execution_count": 35,
   "id": "ffe775e1-9902-4755-a5e6-7ad331adcddf",
   "metadata": {},
   "outputs": [
    {
     "name": "stdout",
     "output_type": "stream",
     "text": [
      "['ba', 'an', 'na', 'an', 'na']\n"
     ]
    }
   ],
   "source": [
    "# 4.Write a function that takes a string and returns a list of bigrams.\n",
    "# A bigram is a sequence of two adjacent elements from a string\n",
    "def bigrams(s):\n",
    "    return [s[i:i+2] for i in range(len(s)-1)]\n",
    "print(bigrams(\"banana\")) \n"
   ]
  },
  {
   "cell_type": "code",
   "execution_count": 37,
   "id": "1b3c0fa6-5d8b-4035-8015-718710688c38",
   "metadata": {},
   "outputs": [],
   "source": [
    "# 5. Given a dictionary with keys as letters and values as lists of letters, write a function closest_key to find the key with the input value closest to the beginning of the list."
   ]
  },
  {
   "cell_type": "code",
   "execution_count": 57,
   "id": "f6dafef0-e596-400a-97bd-f0cae6bad6c8",
   "metadata": {},
   "outputs": [
    {
     "name": "stdout",
     "output_type": "stream",
     "text": [
      "B\n"
     ]
    }
   ],
   "source": [
    "#Initialize closest key & index\n",
    "def closest_key(input_value, dictionary):\n",
    "    closest_key = None\n",
    "    closest_index = float('inf')  # infinity ensures any valid index is closer\n",
    "    \n",
    "    \n",
    "    #iterate through dictionary\n",
    "    for key, value_list in dictionary.items():\n",
    "        #check input value\n",
    "        if input_value in value_list:\n",
    "            #find index of input value\n",
    "            index = value_list.index(input_value)\n",
    "            #compare & update closest index\n",
    "            if index < closest_index:\n",
    "                closest_index = index\n",
    "                closest_key = key\n",
    "     # return closest key\n",
    "    return closest_key\n",
    "letters_dict = {\n",
    "    'A': ['x', 'y', 'z'],\n",
    "    'B': ['a', 'b', 'c'],\n",
    "    'C': ['m', 'n', 'a']\n",
    "}\n",
    "\n",
    "print(closest_key('a', letters_dict))  \n"
   ]
  },
  {
   "cell_type": "code",
   "execution_count": null,
   "id": "5ba4c5ea-37a9-4dc7-93df-25bd0ad36c4d",
   "metadata": {},
   "outputs": [],
   "source": []
  },
  {
   "cell_type": "code",
   "execution_count": null,
   "id": "a2b9444f-5aad-4332-aa58-954244a28d18",
   "metadata": {},
   "outputs": [],
   "source": []
  },
  {
   "cell_type": "code",
   "execution_count": null,
   "id": "b5ff4d28-27fb-428b-8b45-e895760a5e7c",
   "metadata": {},
   "outputs": [],
   "source": []
  },
  {
   "cell_type": "code",
   "execution_count": null,
   "id": "c13d564e-8a24-4169-a559-ffc80e56863f",
   "metadata": {},
   "outputs": [],
   "source": []
  },
  {
   "cell_type": "code",
   "execution_count": null,
   "id": "d0516d0c-5924-4c30-9bbf-9aacd0f2448c",
   "metadata": {},
   "outputs": [],
   "source": []
  },
  {
   "cell_type": "code",
   "execution_count": null,
   "id": "a74f8256-4596-4b0a-a249-b356dce48e53",
   "metadata": {},
   "outputs": [],
   "source": []
  },
  {
   "cell_type": "code",
   "execution_count": null,
   "id": "0eb32976-f415-49ce-a901-99e03690adbb",
   "metadata": {},
   "outputs": [],
   "source": []
  },
  {
   "cell_type": "code",
   "execution_count": null,
   "id": "1666424b-5c84-4a5c-b615-245ffe3f89e4",
   "metadata": {},
   "outputs": [],
   "source": []
  }
 ],
 "metadata": {
  "kernelspec": {
   "display_name": "Python 3 (ipykernel)",
   "language": "python",
   "name": "python3"
  },
  "language_info": {
   "codemirror_mode": {
    "name": "ipython",
    "version": 3
   },
   "file_extension": ".py",
   "mimetype": "text/x-python",
   "name": "python",
   "nbconvert_exporter": "python",
   "pygments_lexer": "ipython3",
   "version": "3.12.4"
  }
 },
 "nbformat": 4,
 "nbformat_minor": 5
}
